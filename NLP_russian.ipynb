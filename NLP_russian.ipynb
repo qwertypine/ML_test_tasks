{
 "cells": [
  {
   "cell_type": "markdown",
   "metadata": {},
   "source": [
    "# Трифонов Никита Дмитриевич  \n",
    "### trifonov28rus@gmail.com  \n",
    "### tg: @qwertypine"
   ]
  },
  {
   "cell_type": "markdown",
   "metadata": {},
   "source": [
    "## Постановка задачи"
   ]
  },
  {
   "cell_type": "markdown",
   "metadata": {},
   "source": [
    "__Цель тестового задания:__  \n",
    "\tПроверить как кандидат подходит к решению и решает упрощенную имитацию реальной бизнес-задачи.\n",
    "\n",
    "__Задача:__  \n",
    "\tЕсть описание закупки (тендера), которое нам нужно отнести к одному из классов для удобства дальнейшей работы с ним.\n",
    "\t Будем считать, что сейчас есть специальные люди, которые вручную по тексту определяют к какому классу отнести эту закупку. (будем считать, что они не совершают ошибок).\n",
    "\n",
    "\tСтоимость ручной разметки одной строки = 1 рубль.\n",
    "\tСтоимость автоматической разметки моделью = 0 рублей.\n",
    "\tСтоимость ошибки модели = 2 рубля\n",
    "\n",
    "__Данные:__   \n",
    "\tВо вложении архив с файлами train.csv и test.csv\n",
    "\tОба файла принадлежат одному распределению и выбраны из него случайно, со стратификацией по таргету.\n",
    "\n",
    "__Описание полей:__  \n",
    "* Index – просто порядковый номер (не несет информации)\n",
    "* Proc_name – описание процедуры закупки\n",
    "* Target – категориальная переменная целевого класса (категория закупки).\n",
    "\n",
    "__Результат:__  \n",
    "1) Необходимо предоставить result.csv файл столбцами index, target , так чтобы столбец index соответствовал index-у из файла test.csv, а target – предсказанному значению целевого класса.  \n",
    "2) Исходный код (можно jupyter notebook) с решением задачи.\n",
    "\n",
    "__Требования к производительности:__  \n",
    "\tЖелательно (но не обязательно), чтобы код можно было запустить локально.\n",
    "\tЕсли есть идеи, требующие больших ресурсов, но таких ресурсов нет – можно кратко описать этот подход в notebook.\n",
    "\n",
    "__Метрики:__  \n",
    "\tНа усмотрение кандидата."
   ]
  },
  {
   "cell_type": "markdown",
   "metadata": {},
   "source": [
    "### Подключим необходимые библиотеки"
   ]
  },
  {
   "cell_type": "code",
   "execution_count": 1,
   "metadata": {},
   "outputs": [
    {
     "name": "stderr",
     "output_type": "stream",
     "text": [
      "Using TensorFlow backend.\n"
     ]
    },
    {
     "name": "stdout",
     "output_type": "stream",
     "text": [
      "Populating the interactive namespace from numpy and matplotlib\n"
     ]
    },
    {
     "name": "stderr",
     "output_type": "stream",
     "text": [
      "/home/user/anaconda3/lib/python3.7/site-packages/IPython/core/magics/pylab.py:160: UserWarning: pylab import has clobbered these variables: ['time']\n",
      "`%matplotlib` prevents importing * from pylab and numpy\n",
      "  \"\\n`%matplotlib` prevents importing * from pylab and numpy\"\n"
     ]
    }
   ],
   "source": [
    "import pandas as pd\n",
    "import numpy as np\n",
    "import sklearn as sk\n",
    "from sklearn.model_selection import train_test_split\n",
    "from sklearn.metrics import mean_squared_error\n",
    "from sklearn.metrics import mean_absolute_error\n",
    "from keras.layers import Dense\n",
    "from time import *\n",
    "import scipy\n",
    "import json\n",
    "import math\n",
    "import matplotlib.pyplot as plt\n",
    "import seaborn as sns\n",
    "%matplotlib inline\n",
    "%pylab inline\n",
    "import seaborn as sb"
   ]
  },
  {
   "cell_type": "markdown",
   "metadata": {},
   "source": [
    "## Работа с датасетом"
   ]
  },
  {
   "cell_type": "code",
   "execution_count": 2,
   "metadata": {},
   "outputs": [],
   "source": [
    "train = pd.read_csv('train.csv', encoding=\"UTF-8\", delimiter=',')"
   ]
  },
  {
   "cell_type": "code",
   "execution_count": 3,
   "metadata": {},
   "outputs": [
    {
     "data": {
      "text/html": [
       "<div>\n",
       "<style scoped>\n",
       "    .dataframe tbody tr th:only-of-type {\n",
       "        vertical-align: middle;\n",
       "    }\n",
       "\n",
       "    .dataframe tbody tr th {\n",
       "        vertical-align: top;\n",
       "    }\n",
       "\n",
       "    .dataframe thead th {\n",
       "        text-align: right;\n",
       "    }\n",
       "</style>\n",
       "<table border=\"1\" class=\"dataframe\">\n",
       "  <thead>\n",
       "    <tr style=\"text-align: right;\">\n",
       "      <th></th>\n",
       "      <th>index</th>\n",
       "      <th>proc_name</th>\n",
       "      <th>target</th>\n",
       "    </tr>\n",
       "  </thead>\n",
       "  <tbody>\n",
       "    <tr>\n",
       "      <td>0</td>\n",
       "      <td>0</td>\n",
       "      <td>право заключения договора на поставку насосов ...</td>\n",
       "      <td>40</td>\n",
       "    </tr>\n",
       "    <tr>\n",
       "      <td>1</td>\n",
       "      <td>1</td>\n",
       "      <td>инструмент для трубопрокатных станов хпт и хпт...</td>\n",
       "      <td>31</td>\n",
       "    </tr>\n",
       "    <tr>\n",
       "      <td>2</td>\n",
       "      <td>2</td>\n",
       "      <td>электрооборудование каталог hahsa flex</td>\n",
       "      <td>27</td>\n",
       "    </tr>\n",
       "    <tr>\n",
       "      <td>3</td>\n",
       "      <td>3</td>\n",
       "      <td>оказание услуг по восстановлению работоспособн...</td>\n",
       "      <td>60</td>\n",
       "    </tr>\n",
       "    <tr>\n",
       "      <td>4</td>\n",
       "      <td>4</td>\n",
       "      <td>геодезические комплектующие и аксессуары,согла...</td>\n",
       "      <td>128</td>\n",
       "    </tr>\n",
       "    <tr>\n",
       "      <td>...</td>\n",
       "      <td>...</td>\n",
       "      <td>...</td>\n",
       "      <td>...</td>\n",
       "    </tr>\n",
       "    <tr>\n",
       "      <td>212085</td>\n",
       "      <td>212085</td>\n",
       "      <td>фрезы отрезные, шпоночные гост 2679-93, гост 5...</td>\n",
       "      <td>31</td>\n",
       "    </tr>\n",
       "    <tr>\n",
       "      <td>212086</td>\n",
       "      <td>212086</td>\n",
       "      <td>техническое обслуживание систем пожаротушения ...</td>\n",
       "      <td>32</td>\n",
       "    </tr>\n",
       "    <tr>\n",
       "      <td>212087</td>\n",
       "      <td>212087</td>\n",
       "      <td>работы по разработке проектно-сметной документ...</td>\n",
       "      <td>18</td>\n",
       "    </tr>\n",
       "    <tr>\n",
       "      <td>212088</td>\n",
       "      <td>212088</td>\n",
       "      <td>приобретение двс мтз- ммз 245 - 1003015б1</td>\n",
       "      <td>21</td>\n",
       "    </tr>\n",
       "    <tr>\n",
       "      <td>212089</td>\n",
       "      <td>212089</td>\n",
       "      <td>поставка провода сип</td>\n",
       "      <td>27</td>\n",
       "    </tr>\n",
       "  </tbody>\n",
       "</table>\n",
       "<p>212090 rows × 3 columns</p>\n",
       "</div>"
      ],
      "text/plain": [
       "         index                                          proc_name  target\n",
       "0            0  право заключения договора на поставку насосов ...      40\n",
       "1            1  инструмент для трубопрокатных станов хпт и хпт...      31\n",
       "2            2             электрооборудование каталог hahsa flex      27\n",
       "3            3  оказание услуг по восстановлению работоспособн...      60\n",
       "4            4  геодезические комплектующие и аксессуары,согла...     128\n",
       "...        ...                                                ...     ...\n",
       "212085  212085  фрезы отрезные, шпоночные гост 2679-93, гост 5...      31\n",
       "212086  212086  техническое обслуживание систем пожаротушения ...      32\n",
       "212087  212087  работы по разработке проектно-сметной документ...      18\n",
       "212088  212088          приобретение двс мтз- ммз 245 - 1003015б1      21\n",
       "212089  212089                               поставка провода сип      27\n",
       "\n",
       "[212090 rows x 3 columns]"
      ]
     },
     "execution_count": 3,
     "metadata": {},
     "output_type": "execute_result"
    }
   ],
   "source": [
    "train"
   ]
  },
  {
   "cell_type": "code",
   "execution_count": 4,
   "metadata": {},
   "outputs": [],
   "source": [
    "test = pd.read_csv('test.csv', encoding=\"UTF-8\", delimiter=',')"
   ]
  },
  {
   "cell_type": "code",
   "execution_count": 5,
   "metadata": {},
   "outputs": [
    {
     "data": {
      "text/html": [
       "<div>\n",
       "<style scoped>\n",
       "    .dataframe tbody tr th:only-of-type {\n",
       "        vertical-align: middle;\n",
       "    }\n",
       "\n",
       "    .dataframe tbody tr th {\n",
       "        vertical-align: top;\n",
       "    }\n",
       "\n",
       "    .dataframe thead th {\n",
       "        text-align: right;\n",
       "    }\n",
       "</style>\n",
       "<table border=\"1\" class=\"dataframe\">\n",
       "  <thead>\n",
       "    <tr style=\"text-align: right;\">\n",
       "      <th></th>\n",
       "      <th>index</th>\n",
       "      <th>proc_name</th>\n",
       "    </tr>\n",
       "  </thead>\n",
       "  <tbody>\n",
       "    <tr>\n",
       "      <td>0</td>\n",
       "      <td>0</td>\n",
       "      <td>подшипник 2шсл 90\\r\\nподшипник 2007156\\r\\nподш...</td>\n",
       "    </tr>\n",
       "    <tr>\n",
       "      <td>1</td>\n",
       "      <td>1</td>\n",
       "      <td>система лазерной защиты fiessler\\r\\nподробное ...</td>\n",
       "    </tr>\n",
       "    <tr>\n",
       "      <td>2</td>\n",
       "      <td>2</td>\n",
       "      <td>запрос услуги: перевозка металлического сетчат...</td>\n",
       "    </tr>\n",
       "    <tr>\n",
       "      <td>3</td>\n",
       "      <td>3</td>\n",
       "      <td>поставка насосного агрегата grundfos sv 044 (d...</td>\n",
       "    </tr>\n",
       "    <tr>\n",
       "      <td>4</td>\n",
       "      <td>4</td>\n",
       "      <td>определение подрядчика на выполнение смр, пнр ...</td>\n",
       "    </tr>\n",
       "    <tr>\n",
       "      <td>...</td>\n",
       "      <td>...</td>\n",
       "      <td>...</td>\n",
       "    </tr>\n",
       "    <tr>\n",
       "      <td>90892</td>\n",
       "      <td>90892</td>\n",
       "      <td>разработка проектно-сметной документации по об...</td>\n",
       "    </tr>\n",
       "    <tr>\n",
       "      <td>90893</td>\n",
       "      <td>90893</td>\n",
       "      <td>поставка шкафов телемеханики в количестве 15 ш...</td>\n",
       "    </tr>\n",
       "    <tr>\n",
       "      <td>90894</td>\n",
       "      <td>90894</td>\n",
       "      <td>изготовление деревянной тары с фумигацией по к...</td>\n",
       "    </tr>\n",
       "    <tr>\n",
       "      <td>90895</td>\n",
       "      <td>90895</td>\n",
       "      <td>соль пищевая, помол №3.\\r\\nгост 51574-2000</td>\n",
       "    </tr>\n",
       "    <tr>\n",
       "      <td>90896</td>\n",
       "      <td>90896</td>\n",
       "      <td>метизы для ресурсов албазино</td>\n",
       "    </tr>\n",
       "  </tbody>\n",
       "</table>\n",
       "<p>90897 rows × 2 columns</p>\n",
       "</div>"
      ],
      "text/plain": [
       "       index                                          proc_name\n",
       "0          0  подшипник 2шсл 90\\r\\nподшипник 2007156\\r\\nподш...\n",
       "1          1  система лазерной защиты fiessler\\r\\nподробное ...\n",
       "2          2  запрос услуги: перевозка металлического сетчат...\n",
       "3          3  поставка насосного агрегата grundfos sv 044 (d...\n",
       "4          4  определение подрядчика на выполнение смр, пнр ...\n",
       "...      ...                                                ...\n",
       "90892  90892  разработка проектно-сметной документации по об...\n",
       "90893  90893  поставка шкафов телемеханики в количестве 15 ш...\n",
       "90894  90894  изготовление деревянной тары с фумигацией по к...\n",
       "90895  90895         соль пищевая, помол №3.\\r\\nгост 51574-2000\n",
       "90896  90896                       метизы для ресурсов албазино\n",
       "\n",
       "[90897 rows x 2 columns]"
      ]
     },
     "execution_count": 5,
     "metadata": {},
     "output_type": "execute_result"
    }
   ],
   "source": [
    "test"
   ]
  },
  {
   "cell_type": "code",
   "execution_count": 155,
   "metadata": {},
   "outputs": [
    {
     "data": {
      "text/plain": [
       "Text(0.5, 1.0, 'распределение меток класса')"
      ]
     },
     "execution_count": 155,
     "metadata": {},
     "output_type": "execute_result"
    },
    {
     "data": {
      "image/png": "[encoded data removed]",
      "text/plain": [
       "<Figure size 432x288 with 1 Axes>"
      ]
     },
     "metadata": {
      "needs_background": "light"
     },
     "output_type": "display_data"
    }
   ],
   "source": [
    "plt.hist(train['target'], bins = 146)\n",
    "plt.title('распределение меток класса')"
   ]
  },
  {
   "cell_type": "markdown",
   "metadata": {},
   "source": [
    "Выполним бинарное кодирование меток."
   ]
  },
  {
   "cell_type": "code",
   "execution_count": 7,
   "metadata": {},
   "outputs": [
    {
     "name": "stderr",
     "output_type": "stream",
     "text": [
      "/home/user/anaconda3/lib/python3.7/site-packages/sklearn/preprocessing/_encoders.py:415: FutureWarning: The handling of integer data will change in version 0.22. Currently, the categories are determined based on the range [0, max(values)], while in the future they will be determined based on the unique values.\n",
      "If you want the future behaviour and silence this warning, you can specify \"categories='auto'\".\n",
      "In case you used a LabelEncoder before this OneHotEncoder to convert the categories to integers, then you can now use the OneHotEncoder directly.\n",
      "  warnings.warn(msg, FutureWarning)\n"
     ]
    }
   ],
   "source": [
    "from sklearn.preprocessing import OneHotEncoder\n",
    "ohe = OneHotEncoder(sparse=False)\n",
    "new_target = ohe.fit_transform(np.array(train['target']).reshape(-1, 1))"
   ]
  },
  {
   "cell_type": "code",
   "execution_count": 9,
   "metadata": {},
   "outputs": [],
   "source": [
    "Y = new_target"
   ]
  },
  {
   "cell_type": "code",
   "execution_count": 10,
   "metadata": {},
   "outputs": [
    {
     "data": {
      "text/html": [
       "<div>\n",
       "<style scoped>\n",
       "    .dataframe tbody tr th:only-of-type {\n",
       "        vertical-align: middle;\n",
       "    }\n",
       "\n",
       "    .dataframe tbody tr th {\n",
       "        vertical-align: top;\n",
       "    }\n",
       "\n",
       "    .dataframe thead th {\n",
       "        text-align: right;\n",
       "    }\n",
       "</style>\n",
       "<table border=\"1\" class=\"dataframe\">\n",
       "  <thead>\n",
       "    <tr style=\"text-align: right;\">\n",
       "      <th></th>\n",
       "      <th>index</th>\n",
       "      <th>proc_name</th>\n",
       "      <th>target</th>\n",
       "    </tr>\n",
       "  </thead>\n",
       "  <tbody>\n",
       "    <tr>\n",
       "      <td>0</td>\n",
       "      <td>0</td>\n",
       "      <td>право заключения договора на поставку насосов ...</td>\n",
       "      <td>40</td>\n",
       "    </tr>\n",
       "    <tr>\n",
       "      <td>1</td>\n",
       "      <td>1</td>\n",
       "      <td>инструмент для трубопрокатных станов хпт и хпт...</td>\n",
       "      <td>31</td>\n",
       "    </tr>\n",
       "    <tr>\n",
       "      <td>2</td>\n",
       "      <td>2</td>\n",
       "      <td>электрооборудование каталог hahsa flex</td>\n",
       "      <td>27</td>\n",
       "    </tr>\n",
       "    <tr>\n",
       "      <td>3</td>\n",
       "      <td>3</td>\n",
       "      <td>оказание услуг по восстановлению работоспособн...</td>\n",
       "      <td>60</td>\n",
       "    </tr>\n",
       "    <tr>\n",
       "      <td>4</td>\n",
       "      <td>4</td>\n",
       "      <td>геодезические комплектующие и аксессуары,согла...</td>\n",
       "      <td>128</td>\n",
       "    </tr>\n",
       "    <tr>\n",
       "      <td>...</td>\n",
       "      <td>...</td>\n",
       "      <td>...</td>\n",
       "      <td>...</td>\n",
       "    </tr>\n",
       "    <tr>\n",
       "      <td>212085</td>\n",
       "      <td>212085</td>\n",
       "      <td>фрезы отрезные, шпоночные гост 2679-93, гост 5...</td>\n",
       "      <td>31</td>\n",
       "    </tr>\n",
       "    <tr>\n",
       "      <td>212086</td>\n",
       "      <td>212086</td>\n",
       "      <td>техническое обслуживание систем пожаротушения ...</td>\n",
       "      <td>32</td>\n",
       "    </tr>\n",
       "    <tr>\n",
       "      <td>212087</td>\n",
       "      <td>212087</td>\n",
       "      <td>работы по разработке проектно-сметной документ...</td>\n",
       "      <td>18</td>\n",
       "    </tr>\n",
       "    <tr>\n",
       "      <td>212088</td>\n",
       "      <td>212088</td>\n",
       "      <td>приобретение двс мтз- ммз 245 - 1003015б1</td>\n",
       "      <td>21</td>\n",
       "    </tr>\n",
       "    <tr>\n",
       "      <td>212089</td>\n",
       "      <td>212089</td>\n",
       "      <td>поставка провода сип</td>\n",
       "      <td>27</td>\n",
       "    </tr>\n",
       "  </tbody>\n",
       "</table>\n",
       "<p>212090 rows × 3 columns</p>\n",
       "</div>"
      ],
      "text/plain": [
       "         index                                          proc_name  target\n",
       "0            0  право заключения договора на поставку насосов ...      40\n",
       "1            1  инструмент для трубопрокатных станов хпт и хпт...      31\n",
       "2            2             электрооборудование каталог hahsa flex      27\n",
       "3            3  оказание услуг по восстановлению работоспособн...      60\n",
       "4            4  геодезические комплектующие и аксессуары,согла...     128\n",
       "...        ...                                                ...     ...\n",
       "212085  212085  фрезы отрезные, шпоночные гост 2679-93, гост 5...      31\n",
       "212086  212086  техническое обслуживание систем пожаротушения ...      32\n",
       "212087  212087  работы по разработке проектно-сметной документ...      18\n",
       "212088  212088          приобретение двс мтз- ммз 245 - 1003015б1      21\n",
       "212089  212089                               поставка провода сип      27\n",
       "\n",
       "[212090 rows x 3 columns]"
      ]
     },
     "execution_count": 10,
     "metadata": {},
     "output_type": "execute_result"
    }
   ],
   "source": [
    "train"
   ]
  },
  {
   "cell_type": "markdown",
   "metadata": {},
   "source": [
    "## Очистка данных"
   ]
  },
  {
   "cell_type": "code",
   "execution_count": 11,
   "metadata": {},
   "outputs": [],
   "source": [
    "def standardize_text(df, text_field):\n",
    "    df1 = df.copy()\n",
    "    \n",
    "    df1[text_field] = df1[text_field].str.lower()\n",
    "    #df1[text_field] = df[text_field].str.replace(r\"http\\S+\", \"\")\n",
    "    #df1[text_field] = df[text_field].str.replace(r\"http\", \"\")\n",
    "    #df1[text_field] = df[text_field].str.replace(r\"@\\S+\", \"\")\n",
    "    #df1[text_field] = df[text_field].str.replace(r\"[^A-Za-z0-9(),!?@\\'\\`\\\"\\_\\n]\", \" \")\n",
    "    #df1[text_field] = df[text_field].str.replace(\"\\r\\n\", \" \")\n",
    "    \n",
    "    df1[text_field] = df1[text_field].str.replace(\"[^а-яА-ЯёЁ]\", \" \")\n",
    "    return df1\n"
   ]
  },
  {
   "cell_type": "code",
   "execution_count": 12,
   "metadata": {},
   "outputs": [],
   "source": [
    "train = standardize_text(train, 'proc_name')"
   ]
  },
  {
   "cell_type": "code",
   "execution_count": 13,
   "metadata": {},
   "outputs": [],
   "source": [
    "test = standardize_text(test, 'proc_name')"
   ]
  },
  {
   "cell_type": "code",
   "execution_count": 14,
   "metadata": {},
   "outputs": [
    {
     "data": {
      "text/plain": [
       "0         право заключения договора на поставку насосов ...\n",
       "1         инструмент для трубопрокатных станов хпт и хпт...\n",
       "2                    электрооборудование каталог           \n",
       "3         оказание услуг по восстановлению работоспособн...\n",
       "4         геодезические комплектующие и аксессуары согла...\n",
       "                                ...                        \n",
       "212085    фрезы отрезные  шпоночные гост          гост  ...\n",
       "212086    техническое обслуживание систем пожаротушения ...\n",
       "212087    работы по разработке проектно сметной документ...\n",
       "212088            приобретение двс мтз  ммз              б \n",
       "212089                                 поставка провода сип\n",
       "Name: proc_name, Length: 212090, dtype: object"
      ]
     },
     "execution_count": 14,
     "metadata": {},
     "output_type": "execute_result"
    }
   ],
   "source": [
    "train['proc_name']"
   ]
  },
  {
   "cell_type": "markdown",
   "metadata": {},
   "source": [
    "Можем также воспользоваться лемматизацией"
   ]
  },
  {
   "cell_type": "markdown",
   "metadata": {},
   "source": [
    "Нормализация"
   ]
  },
  {
   "cell_type": "markdown",
   "metadata": {},
   "source": [
    "## Выберем представление для наших данных"
   ]
  },
  {
   "cell_type": "markdown",
   "metadata": {},
   "source": [
    "Для этого воспользуемся One-hot encoding («Мешок слов»)."
   ]
  },
  {
   "cell_type": "markdown",
   "metadata": {},
   "source": [
    "Токенизируем:"
   ]
  },
  {
   "cell_type": "code",
   "execution_count": 15,
   "metadata": {},
   "outputs": [
    {
     "data": {
      "text/html": [
       "<div>\n",
       "<style scoped>\n",
       "    .dataframe tbody tr th:only-of-type {\n",
       "        vertical-align: middle;\n",
       "    }\n",
       "\n",
       "    .dataframe tbody tr th {\n",
       "        vertical-align: top;\n",
       "    }\n",
       "\n",
       "    .dataframe thead th {\n",
       "        text-align: right;\n",
       "    }\n",
       "</style>\n",
       "<table border=\"1\" class=\"dataframe\">\n",
       "  <thead>\n",
       "    <tr style=\"text-align: right;\">\n",
       "      <th></th>\n",
       "      <th>index</th>\n",
       "      <th>proc_name</th>\n",
       "      <th>target</th>\n",
       "      <th>tokens</th>\n",
       "    </tr>\n",
       "  </thead>\n",
       "  <tbody>\n",
       "    <tr>\n",
       "      <td>0</td>\n",
       "      <td>0</td>\n",
       "      <td>право заключения договора на поставку насосов ...</td>\n",
       "      <td>40</td>\n",
       "      <td>[право, заключения, договора, на, поставку, на...</td>\n",
       "    </tr>\n",
       "    <tr>\n",
       "      <td>1</td>\n",
       "      <td>1</td>\n",
       "      <td>инструмент для трубопрокатных станов хпт и хпт...</td>\n",
       "      <td>31</td>\n",
       "      <td>[инструмент, для, трубопрокатных, станов, хпт,...</td>\n",
       "    </tr>\n",
       "    <tr>\n",
       "      <td>2</td>\n",
       "      <td>2</td>\n",
       "      <td>электрооборудование каталог</td>\n",
       "      <td>27</td>\n",
       "      <td>[электрооборудование, каталог]</td>\n",
       "    </tr>\n",
       "    <tr>\n",
       "      <td>3</td>\n",
       "      <td>3</td>\n",
       "      <td>оказание услуг по восстановлению работоспособн...</td>\n",
       "      <td>60</td>\n",
       "      <td>[оказание, услуг, по, восстановлению, работосп...</td>\n",
       "    </tr>\n",
       "    <tr>\n",
       "      <td>4</td>\n",
       "      <td>4</td>\n",
       "      <td>геодезические комплектующие и аксессуары согла...</td>\n",
       "      <td>128</td>\n",
       "      <td>[геодезические, комплектующие, и, аксессуары, ...</td>\n",
       "    </tr>\n",
       "  </tbody>\n",
       "</table>\n",
       "</div>"
      ],
      "text/plain": [
       "   index                                          proc_name  target  \\\n",
       "0      0  право заключения договора на поставку насосов ...      40   \n",
       "1      1  инструмент для трубопрокатных станов хпт и хпт...      31   \n",
       "2      2             электрооборудование каталог                 27   \n",
       "3      3  оказание услуг по восстановлению работоспособн...      60   \n",
       "4      4  геодезические комплектующие и аксессуары согла...     128   \n",
       "\n",
       "                                              tokens  \n",
       "0  [право, заключения, договора, на, поставку, на...  \n",
       "1  [инструмент, для, трубопрокатных, станов, хпт,...  \n",
       "2                     [электрооборудование, каталог]  \n",
       "3  [оказание, услуг, по, восстановлению, работосп...  \n",
       "4  [геодезические, комплектующие, и, аксессуары, ...  "
      ]
     },
     "execution_count": 15,
     "metadata": {},
     "output_type": "execute_result"
    }
   ],
   "source": [
    "from nltk.tokenize import RegexpTokenizer\n",
    "\n",
    "tokenizer = RegexpTokenizer(r'\\w+')\n",
    "\n",
    "train[\"tokens\"] = train['proc_name'].apply(tokenizer.tokenize)\n",
    "train.head()"
   ]
  },
  {
   "cell_type": "code",
   "execution_count": 16,
   "metadata": {},
   "outputs": [
    {
     "name": "stdout",
     "output_type": "stream",
     "text": [
      "4189220 words total, with a vocabulary size of 89267\n",
      "Max sentence length is 707\n"
     ]
    }
   ],
   "source": [
    "from keras.preprocessing.text import Tokenizer\n",
    "from keras.preprocessing.sequence import pad_sequences\n",
    "from keras.utils import to_categorical\n",
    "\n",
    "all_words = [word for tokens in train[\"tokens\"] for word in tokens]\n",
    "sentence_lengths = [len(tokens) for tokens in train[\"tokens\"]]\n",
    "VOCAB = sorted(list(set(all_words)))\n",
    "print(\"%s words total, with a vocabulary size of %s\" % (len(all_words), len(VOCAB)))\n",
    "print(\"Max sentence length is %s\" % max(sentence_lengths))"
   ]
  },
  {
   "cell_type": "code",
   "execution_count": 159,
   "metadata": {},
   "outputs": [
    {
     "data": {
      "image/png": "[encoded data removed]",
      "text/plain": [
       "<Figure size 720x720 with 1 Axes>"
      ]
     },
     "metadata": {
      "needs_background": "light"
     },
     "output_type": "display_data"
    }
   ],
   "source": [
    "import matplotlib.pyplot as plt\n",
    "\n",
    "fig = plt.figure(figsize=(10, 10)) \n",
    "plt.xlabel('Длина предложений')\n",
    "plt.ylabel('Число предложений')\n",
    "plt.hist(sentence_lengths, bins=100)\n",
    "plt.show()"
   ]
  },
  {
   "cell_type": "code",
   "execution_count": 18,
   "metadata": {},
   "outputs": [],
   "source": [
    "from sklearn.model_selection import train_test_split\n",
    "from sklearn.feature_extraction.text import CountVectorizer, TfidfVectorizer\n",
    "\n",
    "def cv(data):\n",
    "    count_vectorizer = CountVectorizer()\n",
    "\n",
    "    emb = count_vectorizer.fit_transform(data)\n",
    "\n",
    "    return emb, count_vectorizer\n",
    "\n",
    "list_train = (train['proc_name']).tolist()\n",
    "#list_labels = clean_questions[\"class_label\"].tolist()\n",
    "\n",
    "X_train, X_test, y_train, y_test = train_test_split(list_train,\n",
    "                                                    Y,\n",
    "                                                    test_size=0.2,\n",
    "                                                    random_state=40)\n",
    "\n",
    "X_train_counts, count_vectorizer = cv(X_train)\n",
    "X_test_counts = count_vectorizer.transform(X_test)"
   ]
  },
  {
   "cell_type": "markdown",
   "metadata": {},
   "source": [
    "Описанные ниже модели не смогли быть выполнены в разумное время, поэтому понизим размерность при помощи МГК.  \n",
    "P.S.: На понижение размерность (например, при 10 000 компонент, ноутбук не справляется за ночь, оставим это \"на потом\")"
   ]
  },
  {
   "cell_type": "code",
   "execution_count": 19,
   "metadata": {},
   "outputs": [],
   "source": [
    "from sklearn.decomposition import PCA \n",
    "from sklearn.decomposition import TruncatedSVD\n",
    "from scipy import sparse as sp\n",
    "\n",
    "def plot_variances(d_variances, i, name):\n",
    "    n_components = np.arange(1,d_variances.size+1)\n",
    "    plt.plot(n_components, d_variances, 'b', label='Component variances')\n",
    "    plt.xlim(n_components[0], n_components[-1])\n",
    "    plt.title('Зависимость дисперсии компоненты от номера, '+str(name))\n",
    "    plt.xlabel('Номер компоненты')\n",
    "    plt.ylabel('Накопленная дисперсия')\n",
    "    plt.legend(loc='upper right')\n",
    "    #plt.savefig(\"/home/user/Programs/Heavy Metal/plots/\"+\"disp_PCA_\"+str(name)+\"_\"+str(i)+\".png\", dpi=1000)\n",
    "    plt.show()\n",
    "\n",
    "\n",
    "\n",
    "def PCA_disp_components(A_X, i, name):\n",
    "    data = A_X\n",
    "    model = TruncatedSVD(n_components=i)\n",
    "    model.fit(data)\n",
    "    data = model.transform(data)\n",
    "    W, L, WT = np.linalg.svd(np.dot(np.transpose(data), data))\n",
    "    #print(L)\n",
    "    L = (L/(sum(L)))*100\n",
    "    #print(L)\n",
    "    L1= np.zeros((len(L)))\n",
    "    L1[0] = L[0]\n",
    "    for j in range(1,len(L),1):\n",
    "        L[j] = L[j] + L[j-1]\n",
    "    #print(L)\n",
    "    plot_variances(L, i, name)\n",
    "    return 0"
   ]
  },
  {
   "cell_type": "code",
   "execution_count": null,
   "metadata": {},
   "outputs": [],
   "source": [
    "#PCA_disp_components(X_train_counts, 500, 'X') "
   ]
  },
  {
   "cell_type": "code",
   "execution_count": 20,
   "metadata": {},
   "outputs": [],
   "source": [
    "#trnsfm = TruncatedSVD(500)\n",
    "#X_train_counts_PCA = trnsfm.fit_transform(X_train_counts)"
   ]
  },
  {
   "cell_type": "code",
   "execution_count": 21,
   "metadata": {},
   "outputs": [],
   "source": [
    "#X_test_counts_PCA = trnsfm.transform(X_test_counts)"
   ]
  },
  {
   "cell_type": "code",
   "execution_count": 22,
   "metadata": {},
   "outputs": [],
   "source": [
    "import pandas as pd\n",
    "import numpy as np\n",
    "import sklearn as sk\n",
    "from keras.callbacks import EarlyStopping, ModelCheckpoint\n",
    "from sklearn.preprocessing import MinMaxScaler\n",
    "from sklearn.model_selection import train_test_split\n",
    "from keras.models import Sequential\n",
    "from sklearn.metrics import mean_squared_error\n",
    "from sklearn.metrics import mean_absolute_error\n",
    "from keras.layers import Dense\n",
    "from keras.layers import Flatten, BatchNormalization\n",
    "from time import *\n",
    "from math import fabs\n",
    "from scipy.stats import invgauss\n",
    "import scipy\n",
    "import random\n",
    "import json\n",
    "import math\n",
    "import matplotlib.pyplot as plt\n",
    "from keras.models import load_model\n",
    "from sklearn.decomposition import PCA\n",
    "from sklearn.cross_decomposition import PLSRegression"
   ]
  },
  {
   "cell_type": "code",
   "execution_count": 178,
   "metadata": {},
   "outputs": [
    {
     "data": {
      "text/plain": [
       "\"\\nmodel1 = Sequential()\\nmodel1.add(Dense(350, input_dim=(500), activation='sigmoid')) # входной слой требует задать input_dim\\nmodel1.add(Dense((len(y_train[0])), activation='linear')) # не используем функции активации\\n    \\nmodel1.compile(loss='mse', optimizer='adam', metrics=['acc'])\\n\\nt0 = time()\\n\\nhistory = model1.fit(X_train_counts_PCA, y_train, epochs=50, batch_size=256, verbose=1)\\n    \\nt = time()\\nT = t-t0\\n\""
      ]
     },
     "execution_count": 178,
     "metadata": {},
     "output_type": "execute_result"
    }
   ],
   "source": [
    "# Модель на основе PCA (дает хуже результат даже на тренировочном наборе)\n",
    "\"\"\"\n",
    "model1 = Sequential()\n",
    "model1.add(Dense(350, input_dim=(500), activation='sigmoid')) # входной слой требует задать input_dim\n",
    "model1.add(Dense((len(y_train[0])), activation='linear')) # не используем функции активации\n",
    "    \n",
    "model1.compile(loss='mse', optimizer='adam', metrics=['acc'])\n",
    "\n",
    "t0 = time()\n",
    "\n",
    "history = model1.fit(X_train_counts_PCA, y_train, epochs=50, batch_size=256, verbose=1)\n",
    "    \n",
    "t = time()\n",
    "T = t-t0\n",
    "\"\"\""
   ]
  },
  {
   "cell_type": "code",
   "execution_count": null,
   "metadata": {},
   "outputs": [],
   "source": [
    "\"\"\"\n",
    "model2 = Sequential()\n",
    "model2.add(Dense(350, input_dim=(X_train_counts.shape[1]), activation='sigmoid')) # входной слой требует задать input_dim\n",
    "model2.add(Dense((len(y_train[0])), activation='linear')) # не используем функции активации\n",
    "    \n",
    "model2.compile(loss='mse', optimizer='adam', metrics=['acc'])\n",
    "\n",
    "t0 = time()\n",
    "\n",
    "history = model2.fit(X_train_counts, y_train, epochs=50, batch_size=1024, verbose=1)\n",
    "    \n",
    "t = time()\n",
    "T = t-t0\n",
    "\"\"\""
   ]
  },
  {
   "cell_type": "markdown",
   "metadata": {},
   "source": [
    "## Анализ результатов "
   ]
  },
  {
   "cell_type": "markdown",
   "metadata": {},
   "source": [
    "Сначала посмотрим на распределение классов в тестовом наборе."
   ]
  },
  {
   "cell_type": "code",
   "execution_count": 160,
   "metadata": {},
   "outputs": [
    {
     "data": {
      "text/plain": [
       "(array([ 276.,   16.,   12.,   63.,   13.,  596.,   68.,   25.,   21.,\n",
       "          81.,   43.,    7.,   79.,  211.,  260.,   98.,  831., 1459.,\n",
       "         144.,  150.,  368., 1515.,  233.,  268.,  525.,  714.,  436.,\n",
       "        1967.,  937.,  617.,  402., 1586.,  478.,  563., 4235.,  332.,\n",
       "         283.,  766.,  193.,  741.,  580.,  190.,  154.,   55.,  165.,\n",
       "          39.,  435.,  372.,  551.,  166.,   19.,   62.,   56.,  141.,\n",
       "         312.,  256.,  440.,   73.,  170.,  181., 1477.,  929.,  436.,\n",
       "          50., 1463.,  126.,   19.,   57.,  388., 1009.,  291.,  336.,\n",
       "         397.,  662.,  132.,  313.,  114.,  163.,   26.,  102.,  139.,\n",
       "         341.,  310.,  127.,  100.,  192.,   72.,  168.,   27.,   43.,\n",
       "          87.,  220.,  161.,  131.,   67.,   48.,  160.,  130.,   52.,\n",
       "         163.,  170.,  103.,   50.,  206.,   20.,  253.,  295.,   20.,\n",
       "          11.,   20.,  295.,  111.,   68.,  146.,  176.,   74.,   10.,\n",
       "         101.,   63.,  194.,  266.,  114.,  144.,   35.,   60.,   63.,\n",
       "          57.,    8.,   33.,   78.,   43.,  318.,  255.,  113.,  121.,\n",
       "         154.,   83.,   93.,  221.,   51.,  151.,   28.,   19.,  156.,\n",
       "          40.,   71.]),\n",
       " array([  0.        ,   0.99315068,   1.98630137,   2.97945205,\n",
       "          3.97260274,   4.96575342,   5.95890411,   6.95205479,\n",
       "          7.94520548,   8.93835616,   9.93150685,  10.92465753,\n",
       "         11.91780822,  12.9109589 ,  13.90410959,  14.89726027,\n",
       "         15.89041096,  16.88356164,  17.87671233,  18.86986301,\n",
       "         19.8630137 ,  20.85616438,  21.84931507,  22.84246575,\n",
       "         23.83561644,  24.82876712,  25.82191781,  26.81506849,\n",
       "         27.80821918,  28.80136986,  29.79452055,  30.78767123,\n",
       "         31.78082192,  32.7739726 ,  33.76712329,  34.76027397,\n",
       "         35.75342466,  36.74657534,  37.73972603,  38.73287671,\n",
       "         39.7260274 ,  40.71917808,  41.71232877,  42.70547945,\n",
       "         43.69863014,  44.69178082,  45.68493151,  46.67808219,\n",
       "         47.67123288,  48.66438356,  49.65753425,  50.65068493,\n",
       "         51.64383562,  52.6369863 ,  53.63013699,  54.62328767,\n",
       "         55.61643836,  56.60958904,  57.60273973,  58.59589041,\n",
       "         59.5890411 ,  60.58219178,  61.57534247,  62.56849315,\n",
       "         63.56164384,  64.55479452,  65.54794521,  66.54109589,\n",
       "         67.53424658,  68.52739726,  69.52054795,  70.51369863,\n",
       "         71.50684932,  72.5       ,  73.49315068,  74.48630137,\n",
       "         75.47945205,  76.47260274,  77.46575342,  78.45890411,\n",
       "         79.45205479,  80.44520548,  81.43835616,  82.43150685,\n",
       "         83.42465753,  84.41780822,  85.4109589 ,  86.40410959,\n",
       "         87.39726027,  88.39041096,  89.38356164,  90.37671233,\n",
       "         91.36986301,  92.3630137 ,  93.35616438,  94.34931507,\n",
       "         95.34246575,  96.33561644,  97.32876712,  98.32191781,\n",
       "         99.31506849, 100.30821918, 101.30136986, 102.29452055,\n",
       "        103.28767123, 104.28082192, 105.2739726 , 106.26712329,\n",
       "        107.26027397, 108.25342466, 109.24657534, 110.23972603,\n",
       "        111.23287671, 112.2260274 , 113.21917808, 114.21232877,\n",
       "        115.20547945, 116.19863014, 117.19178082, 118.18493151,\n",
       "        119.17808219, 120.17123288, 121.16438356, 122.15753425,\n",
       "        123.15068493, 124.14383562, 125.1369863 , 126.13013699,\n",
       "        127.12328767, 128.11643836, 129.10958904, 130.10273973,\n",
       "        131.09589041, 132.0890411 , 133.08219178, 134.07534247,\n",
       "        135.06849315, 136.06164384, 137.05479452, 138.04794521,\n",
       "        139.04109589, 140.03424658, 141.02739726, 142.02054795,\n",
       "        143.01369863, 144.00684932, 145.        ]),\n",
       " <a list of 146 Patch objects>)"
      ]
     },
     "execution_count": 160,
     "metadata": {},
     "output_type": "execute_result"
    },
    {
     "data": {
      "image/png": "[encoded data removed]",
      "text/plain": [
       "<Figure size 720x720 with 1 Axes>"
      ]
     },
     "metadata": {
      "needs_background": "light"
     },
     "output_type": "display_data"
    }
   ],
   "source": [
    "fig = plt.figure(figsize=(10, 10)) \n",
    "plt.hist(ohe.inverse_transform(y_test), bins=146)"
   ]
  },
  {
   "cell_type": "markdown",
   "metadata": {},
   "source": [
    "Модель с PCA заметно проигрывает в точности (50% против 90% на тренировочном) модели без предобработки, поэтому будем рассматривать вторую модель."
   ]
  },
  {
   "cell_type": "code",
   "execution_count": 25,
   "metadata": {},
   "outputs": [],
   "source": [
    "model2 = load_model(\"model_full.h5\")"
   ]
  },
  {
   "cell_type": "code",
   "execution_count": 47,
   "metadata": {},
   "outputs": [],
   "source": [
    "y_predicted_classes2 = model2.predict_classes(X_test_counts)"
   ]
  },
  {
   "cell_type": "code",
   "execution_count": 44,
   "metadata": {},
   "outputs": [],
   "source": [
    "from sklearn.metrics import accuracy_score\n",
    "from sklearn.metrics import classification_report"
   ]
  },
  {
   "cell_type": "code",
   "execution_count": 161,
   "metadata": {
    "scrolled": true
   },
   "outputs": [
    {
     "name": "stdout",
     "output_type": "stream",
     "text": [
      "              precision    recall  f1-score   support\n",
      "\n",
      "         0.0       0.71      0.76      0.74       276\n",
      "         1.0       0.80      0.75      0.77        16\n",
      "         2.0       0.71      0.42      0.53        12\n",
      "         3.0       0.56      0.40      0.46        63\n",
      "         4.0       0.61      0.85      0.71        13\n",
      "         5.0       0.66      0.68      0.67       596\n",
      "         6.0       0.36      0.26      0.31        68\n",
      "         7.0       0.50      0.04      0.07        25\n",
      "         8.0       0.38      0.24      0.29        21\n",
      "         9.0       0.68      0.63      0.65        81\n",
      "        10.0       0.64      0.74      0.69        43\n",
      "        11.0       1.00      0.14      0.25         7\n",
      "        12.0       0.33      0.14      0.20        79\n",
      "        13.0       0.66      0.63      0.64       211\n",
      "        14.0       0.65      0.73      0.69       260\n",
      "        15.0       0.95      0.85      0.90        98\n",
      "        16.0       0.78      0.74      0.76       831\n",
      "        17.0       0.69      0.78      0.74      1459\n",
      "        18.0       0.71      0.76      0.74       144\n",
      "        19.0       0.45      0.23      0.31       150\n",
      "        20.0       0.62      0.61      0.61       368\n",
      "        21.0       0.67      0.84      0.75      1515\n",
      "        22.0       0.93      0.89      0.91       233\n",
      "        23.0       0.90      0.96      0.93       268\n",
      "        24.0       0.84      0.80      0.82       525\n",
      "        25.0       0.82      0.87      0.85       714\n",
      "        26.0       0.73      0.65      0.69       436\n",
      "        27.0       0.75      0.88      0.81      1967\n",
      "        28.0       0.89      0.95      0.92       937\n",
      "        29.0       0.93      0.91      0.92       617\n",
      "        30.0       0.81      0.78      0.79       402\n",
      "        31.0       0.85      0.84      0.85      1586\n",
      "        32.0       0.79      0.76      0.77       478\n",
      "        33.0       0.77      0.76      0.76       563\n",
      "        34.0       0.90      0.92      0.91      4235\n",
      "        35.0       0.91      0.81      0.86       332\n",
      "        36.0       0.95      0.96      0.96       283\n",
      "        37.0       0.74      0.78      0.76       766\n",
      "        38.0       0.85      0.79      0.82       193\n",
      "        39.0       0.78      0.87      0.82       741\n",
      "        40.0       0.85      0.89      0.87       580\n",
      "        41.0       0.84      0.90      0.87       190\n",
      "        42.0       0.63      0.47      0.54       154\n",
      "        43.0       0.88      0.95      0.91        55\n",
      "        44.0       0.85      0.90      0.87       165\n",
      "        45.0       0.86      0.77      0.81        39\n",
      "        46.0       0.90      0.91      0.91       435\n",
      "        47.0       0.77      0.83      0.80       372\n",
      "        48.0       0.82      0.83      0.82       551\n",
      "        49.0       0.62      0.60      0.61       166\n",
      "        50.0       1.00      0.26      0.42        19\n",
      "        51.0       0.71      0.52      0.60        62\n",
      "        52.0       0.61      0.50      0.55        56\n",
      "        53.0       0.63      0.49      0.55       141\n",
      "        54.0       0.73      0.79      0.76       312\n",
      "        55.0       0.84      0.85      0.85       256\n",
      "        56.0       0.77      0.75      0.76       440\n",
      "        57.0       0.72      0.47      0.57        73\n",
      "        58.0       0.81      0.75      0.78       170\n",
      "        59.0       0.76      0.86      0.81       181\n",
      "        60.0       0.76      0.82      0.79      1477\n",
      "        61.0       0.81      0.85      0.83       929\n",
      "        62.0       0.75      0.65      0.70       436\n",
      "        63.0       0.71      0.44      0.54        50\n",
      "        64.0       0.75      0.77      0.76      1463\n",
      "        65.0       0.53      0.37      0.44       126\n",
      "        66.0       0.82      0.47      0.60        19\n",
      "        67.0       0.68      0.53      0.59        57\n",
      "        68.0       0.79      0.83      0.81       388\n",
      "        69.0       0.83      0.91      0.87      1009\n",
      "        70.0       0.74      0.81      0.77       291\n",
      "        71.0       0.68      0.75      0.71       336\n",
      "        72.0       0.92      0.89      0.91       397\n",
      "        73.0       0.84      0.81      0.82       662\n",
      "        74.0       0.63      0.48      0.55       132\n",
      "        75.0       0.83      0.78      0.80       313\n",
      "        76.0       0.78      0.75      0.76       114\n",
      "        77.0       0.60      0.45      0.51       163\n",
      "        78.0       0.50      0.04      0.07        26\n",
      "        79.0       0.76      0.69      0.72       102\n",
      "        80.0       0.70      0.48      0.57       139\n",
      "        81.0       0.62      0.58      0.60       341\n",
      "        82.0       0.73      0.70      0.71       310\n",
      "        83.0       0.73      0.83      0.78       127\n",
      "        84.0       1.00      0.94      0.97       100\n",
      "        85.0       0.91      0.91      0.91       192\n",
      "        86.0       0.79      0.42      0.55        72\n",
      "        87.0       0.99      0.99      0.99       168\n",
      "        88.0       0.51      0.67      0.58        27\n",
      "        89.0       0.55      0.37      0.44        43\n",
      "        90.0       0.82      0.79      0.81        87\n",
      "        91.0       0.74      0.64      0.69       220\n",
      "        92.0       0.83      0.84      0.84       161\n",
      "        93.0       0.91      0.96      0.94       131\n",
      "        94.0       0.62      0.24      0.34        67\n",
      "        95.0       0.89      0.85      0.87        48\n",
      "        96.0       0.83      0.77      0.80       160\n",
      "        97.0       0.71      0.51      0.59       130\n",
      "        98.0       0.81      0.58      0.67        52\n",
      "        99.0       0.75      0.71      0.73       163\n",
      "       100.0       0.78      0.84      0.80       170\n",
      "       101.0       0.59      0.46      0.52       103\n",
      "       102.0       0.64      0.56      0.60        50\n",
      "       103.0       0.74      0.54      0.62       206\n",
      "       104.0       0.88      0.75      0.81        20\n",
      "       105.0       0.63      0.65      0.64       253\n",
      "       106.0       0.57      0.53      0.55       295\n",
      "       107.0       0.67      0.60      0.63        20\n",
      "       108.0       0.40      0.18      0.25        11\n",
      "       109.0       0.50      0.35      0.41        20\n",
      "       110.0       0.83      0.86      0.84       295\n",
      "       111.0       0.90      0.94      0.92       111\n",
      "       112.0       0.92      0.88      0.90        68\n",
      "       113.0       0.71      0.67      0.69       146\n",
      "       114.0       0.79      0.70      0.75       176\n",
      "       115.0       0.84      0.80      0.82        74\n",
      "       116.0       0.58      0.70      0.64        10\n",
      "       117.0       0.58      0.41      0.48       101\n",
      "       118.0       0.89      0.79      0.84        63\n",
      "       119.0       0.65      0.73      0.69       194\n",
      "       120.0       0.86      0.85      0.85       266\n",
      "       121.0       0.78      0.89      0.83       114\n",
      "       122.0       0.33      0.08      0.12       144\n",
      "       123.0       0.85      0.63      0.72        35\n",
      "       124.0       0.81      0.63      0.71        60\n",
      "       125.0       0.64      0.51      0.57        63\n",
      "       126.0       0.82      0.72      0.77        57\n",
      "       127.0       0.33      0.12      0.18         8\n",
      "       128.0       0.68      0.64      0.66        33\n",
      "       129.0       0.79      0.77      0.78        78\n",
      "       130.0       0.58      0.60      0.59        43\n",
      "       131.0       0.62      0.41      0.49       318\n",
      "       132.0       0.68      0.58      0.63       255\n",
      "       133.0       0.66      0.35      0.45       113\n",
      "       134.0       0.43      0.34      0.38       121\n",
      "       135.0       0.80      0.87      0.83       154\n",
      "       136.0       0.70      0.57      0.63        83\n",
      "       137.0       0.67      0.24      0.35        93\n",
      "       138.0       0.62      0.69      0.66       221\n",
      "       139.0       0.73      0.37      0.49        51\n",
      "       140.0       0.68      0.56      0.61       151\n",
      "       141.0       0.73      0.57      0.64        28\n",
      "       142.0       0.70      0.37      0.48        19\n",
      "       143.0       0.55      0.36      0.43       156\n",
      "       144.0       0.66      0.62      0.64        40\n",
      "       145.0       0.68      0.58      0.63        71\n",
      "\n",
      "    accuracy                           0.78     42418\n",
      "   macro avg       0.73      0.65      0.68     42418\n",
      "weighted avg       0.78      0.78      0.77     42418\n",
      "\n"
     ]
    }
   ],
   "source": [
    "target_names = range(146)\n",
    "print(classification_report(ohe.inverse_transform(y_test), y_predicted_classes2))"
   ]
  },
  {
   "cell_type": "markdown",
   "metadata": {},
   "source": [
    "Пусть ручная разметка этих данных стоит 1 рубль, моделью 0, а ошибка модели - 2 рубля.  \n",
    "Тогда посчитаем стоимость разметки наших данных в относительные единицах:"
   ]
  },
  {
   "cell_type": "code",
   "execution_count": 175,
   "metadata": {},
   "outputs": [
    {
     "name": "stdout",
     "output_type": "stream",
     "text": [
      "18663.920000000002\n"
     ]
    }
   ],
   "source": [
    "cost1 = 0.22*42418*2 #42418 - число объектов в нашем датасете, заменим это на относительную стоимость, т.е. на 1\n",
    "print(cost1)"
   ]
  },
  {
   "cell_type": "markdown",
   "metadata": {},
   "source": [
    "Стоимость ручной разметки наших данных - 1."
   ]
  },
  {
   "cell_type": "markdown",
   "metadata": {},
   "source": [
    "А что если часть данных, которую мы с трудом предсказываем, помечать руками?  \n",
    "Посчитаем вероятности для каждого класса:"
   ]
  },
  {
   "cell_type": "code",
   "execution_count": 32,
   "metadata": {},
   "outputs": [
    {
     "name": "stderr",
     "output_type": "stream",
     "text": [
      "/home/user/anaconda3/lib/python3.7/site-packages/keras/engine/sequential.py:248: UserWarning: Network returning invalid probability values. The last layer might not normalize predictions into probabilities (like softmax or sigmoid would).\n",
      "  warnings.warn('Network returning invalid probability values. '\n"
     ]
    }
   ],
   "source": [
    "pred_scr = model2.predict_proba(X_test_counts)"
   ]
  },
  {
   "cell_type": "markdown",
   "metadata": {},
   "source": [
    "Рассмотрим вероятности и сделаем отсечку по самым минимальным."
   ]
  },
  {
   "cell_type": "code",
   "execution_count": 169,
   "metadata": {},
   "outputs": [],
   "source": [
    "max_prob = np.max(pred_scr, axis=1) #максимальная вероятность для каждого классса"
   ]
  },
  {
   "cell_type": "markdown",
   "metadata": {},
   "source": [
    "Отсечем 20% по квантилю строк с самыми низкими вероятностями."
   ]
  },
  {
   "cell_type": "code",
   "execution_count": 170,
   "metadata": {},
   "outputs": [
    {
     "data": {
      "text/plain": [
       "0.4478765785694122"
      ]
     },
     "execution_count": 170,
     "metadata": {},
     "output_type": "execute_result"
    }
   ],
   "source": [
    "np.quantile(max_prob, 0.2)"
   ]
  },
  {
   "cell_type": "markdown",
   "metadata": {},
   "source": [
    "Индексы строк, удовлетворяющие нашим условиям (верятность больше 0.45):"
   ]
  },
  {
   "cell_type": "code",
   "execution_count": 136,
   "metadata": {},
   "outputs": [],
   "source": [
    "ind = np.where(pred_scr > np.quantile(max_prob, 0.2))[0]"
   ]
  },
  {
   "cell_type": "code",
   "execution_count": 137,
   "metadata": {},
   "outputs": [
    {
     "data": {
      "text/plain": [
       "36530"
      ]
     },
     "execution_count": 137,
     "metadata": {},
     "output_type": "execute_result"
    }
   ],
   "source": [
    "len(ind)"
   ]
  },
  {
   "cell_type": "code",
   "execution_count": 164,
   "metadata": {},
   "outputs": [
    {
     "data": {
      "text/plain": [
       "(42418, 146)"
      ]
     },
     "execution_count": 164,
     "metadata": {},
     "output_type": "execute_result"
    }
   ],
   "source": [
    "y_test.shape"
   ]
  },
  {
   "cell_type": "markdown",
   "metadata": {},
   "source": [
    "Тогда вручную придется разметить строк:"
   ]
  },
  {
   "cell_type": "code",
   "execution_count": 171,
   "metadata": {},
   "outputs": [
    {
     "data": {
      "text/plain": [
       "5888"
      ]
     },
     "execution_count": 171,
     "metadata": {},
     "output_type": "execute_result"
    }
   ],
   "source": [
    "42418 - 36530"
   ]
  },
  {
   "cell_type": "markdown",
   "metadata": {},
   "source": [
    "При этом точность повысилась:"
   ]
  },
  {
   "cell_type": "code",
   "execution_count": 138,
   "metadata": {},
   "outputs": [
    {
     "name": "stdout",
     "output_type": "stream",
     "text": [
      "0.8338625787024364\n"
     ]
    }
   ],
   "source": [
    "acc_clear = accuracy_score(ohe.inverse_transform(y_test)[ind], y_predicted_classes[ind])\n",
    "print(acc_clear)"
   ]
  },
  {
   "cell_type": "markdown",
   "metadata": {},
   "source": [
    "Тогда итоговая стоимость модели:"
   ]
  },
  {
   "cell_type": "code",
   "execution_count": 174,
   "metadata": {},
   "outputs": [
    {
     "name": "stdout",
     "output_type": "stream",
     "text": [
      "17577.6\n"
     ]
    }
   ],
   "source": [
    "cost2 = 0.16*36530*2 + 5888*1\n",
    "print(cost2)"
   ]
  },
  {
   "cell_type": "code",
   "execution_count": 176,
   "metadata": {},
   "outputs": [
    {
     "name": "stdout",
     "output_type": "stream",
     "text": [
      "Стоимость первой модели: 18663.920000000002\n",
      "Стоимость второй модели: 17577.6\n"
     ]
    }
   ],
   "source": [
    "print('Стоимость первой модели:', cost1)\n",
    "print('Стоимость второй модели:', cost2)"
   ]
  },
  {
   "cell_type": "markdown",
   "metadata": {},
   "source": [
    "Как видим, вторая модель оказалась выгоднее."
   ]
  },
  {
   "cell_type": "markdown",
   "metadata": {},
   "source": [
    "## Критика и дальнейшая работа"
   ]
  },
  {
   "cell_type": "markdown",
   "metadata": {},
   "source": [
    "#### Данные:  \n",
    "* Нормализация (Стемминг/Лематизация);\n",
    "* Выделить коллокации различными методами;\n",
    "* Можно удалить самые редкие/частые слова;\n",
    "* Произвести разведочный анализ: корреляция, самые значимые слова и т.д.\n",
    "* Извлечение признаков из текста:  \n",
    "  * TF-IDF;  \n",
    "  * N-граммы;\n",
    "  * Буквенные n-граммы;\n",
    "  * Skip-граммы;  \n",
    "  * Хэширование;\n",
    "  * МГК;\n",
    "  * ___Word2vec___;\n",
    "  * Рассмотрение предложения как последовательности индивидуальных векторов слов с использованием или Word2Vec, или более свежих подходов вроде GloVe или CoVe.\n",
    "\n",
    "\n",
    "#### Модели:  \n",
    "* Стоит лучше провалидировать модели (например, валидационный набор при обучении или кросс-валидация);\n",
    "* Callbacks, критерии остановки для обучения, сохранение лучшей модели;\n",
    "* Построить более простые модели и убедиться, что вы интерпретируете информацию, а не шум;\n",
    "* Попробовать иные модели глубокого обучения:\n",
    "  * RNN;\n",
    "  * CNN;\n",
    "  * LSTM;\n",
    "  * GRU;\n",
    "  * biderectional RNN;\n",
    "* Слой Embedding, прореживание и др.;\n",
    "* Перебор гиперпараметров;  \n",
    "* Последние научные статьи по теме NLP (прим.: https://arxiv.org/abs/1408.5882);\n",
    "\n",
    "\n",
    "#### Анализ результатов:  \n",
    "* LIME (есть на GitHub) - позволяет интерпретировать результаты любого классификатора;\n",
    "* Составить более общую формулу для рассчета стоимости.\n"
   ]
  },
  {
   "cell_type": "markdown",
   "metadata": {},
   "source": [
    "## Предскажем результат для тестовой выборки"
   ]
  },
  {
   "cell_type": "code",
   "execution_count": 182,
   "metadata": {},
   "outputs": [],
   "source": [
    "list_test = (test['proc_name']).tolist()"
   ]
  },
  {
   "cell_type": "code",
   "execution_count": 183,
   "metadata": {},
   "outputs": [],
   "source": [
    "test_counts = count_vectorizer.transform(list_test)"
   ]
  },
  {
   "cell_type": "code",
   "execution_count": 184,
   "metadata": {},
   "outputs": [],
   "source": [
    "test_predicted_classes2 = model2.predict_classes(test_counts)"
   ]
  },
  {
   "cell_type": "code",
   "execution_count": 188,
   "metadata": {},
   "outputs": [
    {
     "data": {
      "text/plain": [
       "90897"
      ]
     },
     "execution_count": 188,
     "metadata": {},
     "output_type": "execute_result"
    }
   ],
   "source": [
    "len(test_predicted_classes2)"
   ]
  },
  {
   "cell_type": "code",
   "execution_count": 187,
   "metadata": {},
   "outputs": [
    {
     "data": {
      "text/html": [
       "<div>\n",
       "<style scoped>\n",
       "    .dataframe tbody tr th:only-of-type {\n",
       "        vertical-align: middle;\n",
       "    }\n",
       "\n",
       "    .dataframe tbody tr th {\n",
       "        vertical-align: top;\n",
       "    }\n",
       "\n",
       "    .dataframe thead th {\n",
       "        text-align: right;\n",
       "    }\n",
       "</style>\n",
       "<table border=\"1\" class=\"dataframe\">\n",
       "  <thead>\n",
       "    <tr style=\"text-align: right;\">\n",
       "      <th></th>\n",
       "      <th>index</th>\n",
       "      <th>proc_name</th>\n",
       "    </tr>\n",
       "  </thead>\n",
       "  <tbody>\n",
       "    <tr>\n",
       "      <td>0</td>\n",
       "      <td>0</td>\n",
       "      <td>подшипник  шсл     подшипник          подшипни...</td>\n",
       "    </tr>\n",
       "    <tr>\n",
       "      <td>1</td>\n",
       "      <td>1</td>\n",
       "      <td>система лазерной защиты           подробное оп...</td>\n",
       "    </tr>\n",
       "    <tr>\n",
       "      <td>2</td>\n",
       "      <td>2</td>\n",
       "      <td>запрос услуги  перевозка металлического сетчат...</td>\n",
       "    </tr>\n",
       "    <tr>\n",
       "      <td>3</td>\n",
       "      <td>3</td>\n",
       "      <td>поставка насосного агрегата                   ...</td>\n",
       "    </tr>\n",
       "    <tr>\n",
       "      <td>4</td>\n",
       "      <td>4</td>\n",
       "      <td>определение подрядчика на выполнение смр  пнр ...</td>\n",
       "    </tr>\n",
       "    <tr>\n",
       "      <td>...</td>\n",
       "      <td>...</td>\n",
       "      <td>...</td>\n",
       "    </tr>\n",
       "    <tr>\n",
       "      <td>90892</td>\n",
       "      <td>90892</td>\n",
       "      <td>разработка проектно сметной документации по об...</td>\n",
       "    </tr>\n",
       "    <tr>\n",
       "      <td>90893</td>\n",
       "      <td>90893</td>\n",
       "      <td>поставка шкафов телемеханики в количестве    ш...</td>\n",
       "    </tr>\n",
       "    <tr>\n",
       "      <td>90894</td>\n",
       "      <td>90894</td>\n",
       "      <td>изготовление деревянной тары с фумигацией по к...</td>\n",
       "    </tr>\n",
       "    <tr>\n",
       "      <td>90895</td>\n",
       "      <td>90895</td>\n",
       "      <td>соль пищевая  помол      гост</td>\n",
       "    </tr>\n",
       "    <tr>\n",
       "      <td>90896</td>\n",
       "      <td>90896</td>\n",
       "      <td>метизы для ресурсов албазино</td>\n",
       "    </tr>\n",
       "  </tbody>\n",
       "</table>\n",
       "<p>90897 rows × 2 columns</p>\n",
       "</div>"
      ],
      "text/plain": [
       "       index                                          proc_name\n",
       "0          0  подшипник  шсл     подшипник          подшипни...\n",
       "1          1  система лазерной защиты           подробное оп...\n",
       "2          2  запрос услуги  перевозка металлического сетчат...\n",
       "3          3  поставка насосного агрегата                   ...\n",
       "4          4  определение подрядчика на выполнение смр  пнр ...\n",
       "...      ...                                                ...\n",
       "90892  90892  разработка проектно сметной документации по об...\n",
       "90893  90893  поставка шкафов телемеханики в количестве    ш...\n",
       "90894  90894  изготовление деревянной тары с фумигацией по к...\n",
       "90895  90895           соль пищевая  помол      гост           \n",
       "90896  90896                       метизы для ресурсов албазино\n",
       "\n",
       "[90897 rows x 2 columns]"
      ]
     },
     "execution_count": 187,
     "metadata": {},
     "output_type": "execute_result"
    }
   ],
   "source": [
    "test"
   ]
  },
  {
   "cell_type": "code",
   "execution_count": 189,
   "metadata": {},
   "outputs": [],
   "source": [
    "res_df = test.copy()"
   ]
  },
  {
   "cell_type": "code",
   "execution_count": 190,
   "metadata": {},
   "outputs": [
    {
     "data": {
      "text/html": [
       "<div>\n",
       "<style scoped>\n",
       "    .dataframe tbody tr th:only-of-type {\n",
       "        vertical-align: middle;\n",
       "    }\n",
       "\n",
       "    .dataframe tbody tr th {\n",
       "        vertical-align: top;\n",
       "    }\n",
       "\n",
       "    .dataframe thead th {\n",
       "        text-align: right;\n",
       "    }\n",
       "</style>\n",
       "<table border=\"1\" class=\"dataframe\">\n",
       "  <thead>\n",
       "    <tr style=\"text-align: right;\">\n",
       "      <th></th>\n",
       "      <th>index</th>\n",
       "      <th>proc_name</th>\n",
       "    </tr>\n",
       "  </thead>\n",
       "  <tbody>\n",
       "    <tr>\n",
       "      <td>0</td>\n",
       "      <td>0</td>\n",
       "      <td>подшипник  шсл     подшипник          подшипни...</td>\n",
       "    </tr>\n",
       "    <tr>\n",
       "      <td>1</td>\n",
       "      <td>1</td>\n",
       "      <td>система лазерной защиты           подробное оп...</td>\n",
       "    </tr>\n",
       "    <tr>\n",
       "      <td>2</td>\n",
       "      <td>2</td>\n",
       "      <td>запрос услуги  перевозка металлического сетчат...</td>\n",
       "    </tr>\n",
       "    <tr>\n",
       "      <td>3</td>\n",
       "      <td>3</td>\n",
       "      <td>поставка насосного агрегата                   ...</td>\n",
       "    </tr>\n",
       "    <tr>\n",
       "      <td>4</td>\n",
       "      <td>4</td>\n",
       "      <td>определение подрядчика на выполнение смр  пнр ...</td>\n",
       "    </tr>\n",
       "    <tr>\n",
       "      <td>...</td>\n",
       "      <td>...</td>\n",
       "      <td>...</td>\n",
       "    </tr>\n",
       "    <tr>\n",
       "      <td>90892</td>\n",
       "      <td>90892</td>\n",
       "      <td>разработка проектно сметной документации по об...</td>\n",
       "    </tr>\n",
       "    <tr>\n",
       "      <td>90893</td>\n",
       "      <td>90893</td>\n",
       "      <td>поставка шкафов телемеханики в количестве    ш...</td>\n",
       "    </tr>\n",
       "    <tr>\n",
       "      <td>90894</td>\n",
       "      <td>90894</td>\n",
       "      <td>изготовление деревянной тары с фумигацией по к...</td>\n",
       "    </tr>\n",
       "    <tr>\n",
       "      <td>90895</td>\n",
       "      <td>90895</td>\n",
       "      <td>соль пищевая  помол      гост</td>\n",
       "    </tr>\n",
       "    <tr>\n",
       "      <td>90896</td>\n",
       "      <td>90896</td>\n",
       "      <td>метизы для ресурсов албазино</td>\n",
       "    </tr>\n",
       "  </tbody>\n",
       "</table>\n",
       "<p>90897 rows × 2 columns</p>\n",
       "</div>"
      ],
      "text/plain": [
       "       index                                          proc_name\n",
       "0          0  подшипник  шсл     подшипник          подшипни...\n",
       "1          1  система лазерной защиты           подробное оп...\n",
       "2          2  запрос услуги  перевозка металлического сетчат...\n",
       "3          3  поставка насосного агрегата                   ...\n",
       "4          4  определение подрядчика на выполнение смр  пнр ...\n",
       "...      ...                                                ...\n",
       "90892  90892  разработка проектно сметной документации по об...\n",
       "90893  90893  поставка шкафов телемеханики в количестве    ш...\n",
       "90894  90894  изготовление деревянной тары с фумигацией по к...\n",
       "90895  90895           соль пищевая  помол      гост           \n",
       "90896  90896                       метизы для ресурсов албазино\n",
       "\n",
       "[90897 rows x 2 columns]"
      ]
     },
     "execution_count": 190,
     "metadata": {},
     "output_type": "execute_result"
    }
   ],
   "source": [
    "res_df"
   ]
  },
  {
   "cell_type": "code",
   "execution_count": 191,
   "metadata": {},
   "outputs": [],
   "source": [
    "del res_df['proc_name']"
   ]
  },
  {
   "cell_type": "code",
   "execution_count": 194,
   "metadata": {},
   "outputs": [],
   "source": [
    "res_df['target'] = test_predicted_classes2"
   ]
  },
  {
   "cell_type": "code",
   "execution_count": 195,
   "metadata": {},
   "outputs": [
    {
     "data": {
      "text/html": [
       "<div>\n",
       "<style scoped>\n",
       "    .dataframe tbody tr th:only-of-type {\n",
       "        vertical-align: middle;\n",
       "    }\n",
       "\n",
       "    .dataframe tbody tr th {\n",
       "        vertical-align: top;\n",
       "    }\n",
       "\n",
       "    .dataframe thead th {\n",
       "        text-align: right;\n",
       "    }\n",
       "</style>\n",
       "<table border=\"1\" class=\"dataframe\">\n",
       "  <thead>\n",
       "    <tr style=\"text-align: right;\">\n",
       "      <th></th>\n",
       "      <th>index</th>\n",
       "      <th>target</th>\n",
       "    </tr>\n",
       "  </thead>\n",
       "  <tbody>\n",
       "    <tr>\n",
       "      <td>0</td>\n",
       "      <td>0</td>\n",
       "      <td>36</td>\n",
       "    </tr>\n",
       "    <tr>\n",
       "      <td>1</td>\n",
       "      <td>1</td>\n",
       "      <td>54</td>\n",
       "    </tr>\n",
       "    <tr>\n",
       "      <td>2</td>\n",
       "      <td>2</td>\n",
       "      <td>39</td>\n",
       "    </tr>\n",
       "    <tr>\n",
       "      <td>3</td>\n",
       "      <td>3</td>\n",
       "      <td>40</td>\n",
       "    </tr>\n",
       "    <tr>\n",
       "      <td>4</td>\n",
       "      <td>4</td>\n",
       "      <td>34</td>\n",
       "    </tr>\n",
       "    <tr>\n",
       "      <td>...</td>\n",
       "      <td>...</td>\n",
       "      <td>...</td>\n",
       "    </tr>\n",
       "    <tr>\n",
       "      <td>90892</td>\n",
       "      <td>90892</td>\n",
       "      <td>19</td>\n",
       "    </tr>\n",
       "    <tr>\n",
       "      <td>90893</td>\n",
       "      <td>90893</td>\n",
       "      <td>33</td>\n",
       "    </tr>\n",
       "    <tr>\n",
       "      <td>90894</td>\n",
       "      <td>90894</td>\n",
       "      <td>68</td>\n",
       "    </tr>\n",
       "    <tr>\n",
       "      <td>90895</td>\n",
       "      <td>90895</td>\n",
       "      <td>46</td>\n",
       "    </tr>\n",
       "    <tr>\n",
       "      <td>90896</td>\n",
       "      <td>90896</td>\n",
       "      <td>48</td>\n",
       "    </tr>\n",
       "  </tbody>\n",
       "</table>\n",
       "<p>90897 rows × 2 columns</p>\n",
       "</div>"
      ],
      "text/plain": [
       "       index  target\n",
       "0          0      36\n",
       "1          1      54\n",
       "2          2      39\n",
       "3          3      40\n",
       "4          4      34\n",
       "...      ...     ...\n",
       "90892  90892      19\n",
       "90893  90893      33\n",
       "90894  90894      68\n",
       "90895  90895      46\n",
       "90896  90896      48\n",
       "\n",
       "[90897 rows x 2 columns]"
      ]
     },
     "execution_count": 195,
     "metadata": {},
     "output_type": "execute_result"
    }
   ],
   "source": [
    "res_df"
   ]
  },
  {
   "cell_type": "code",
   "execution_count": 196,
   "metadata": {},
   "outputs": [],
   "source": [
    "np.savetxt('result.csv', res_df)"
   ]
  }
 ],
 "metadata": {
  "kernelspec": {
   "display_name": "Python 3",
   "language": "python",
   "name": "python3"
  },
  "language_info": {
   "codemirror_mode": {
    "name": "ipython",
    "version": 3
   },
   "file_extension": ".py",
   "mimetype": "text/x-python",
   "name": "python",
   "nbconvert_exporter": "python",
   "pygments_lexer": "ipython3",
   "version": "3.7.4"
  }
 },
 "nbformat": 4,
 "nbformat_minor": 2
}
